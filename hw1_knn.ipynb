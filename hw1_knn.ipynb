{
  "nbformat": 4,
  "nbformat_minor": 0,
  "metadata": {
    "colab": {
      "provenance": [],
      "gpuType": "T4",
      "include_colab_link": true
    },
    "kernelspec": {
      "name": "python3",
      "display_name": "Python 3"
    },
    "language_info": {
      "name": "python"
    }
  },
  "cells": [
    {
      "cell_type": "markdown",
      "metadata": {
        "id": "view-in-github",
        "colab_type": "text"
      },
      "source": [
        "<a href=\"https://colab.research.google.com/github/dhdbsrlw/MLVU/blob/main/hw1_knn.ipynb\" target=\"_parent\"><img src=\"https://colab.research.google.com/assets/colab-badge.svg\" alt=\"Open In Colab\"/></a>"
      ]
    },
    {
      "cell_type": "markdown",
      "metadata": {
        "id": "f7MWUDI2IBYW"
      },
      "source": [
        "## Colab Setup"
      ]
    },
    {
      "cell_type": "code",
      "metadata": {
        "id": "JsEbh_t58ZJo",
        "colab": {
          "base_uri": "https://localhost:8080/"
        },
        "outputId": "20de4c38-6caf-4890-dd16-e9496b526fc0"
      },
      "source": [
        "from google.colab import drive\n",
        "drive.mount('/content/drive')"
      ],
      "execution_count": 2,
      "outputs": [
        {
          "output_type": "stream",
          "name": "stdout",
          "text": [
            "Mounted at /content/drive\n"
          ]
        }
      ]
    },
    {
      "cell_type": "code",
      "metadata": {
        "id": "_GXMM3Js7hII",
        "colab": {
          "base_uri": "https://localhost:8080/"
        },
        "outputId": "0198a7fd-5c12-47ec-c7f9-50896362305f"
      },
      "source": [
        "\"\"\"\n",
        "Change directory to where this file is located\n",
        "\"\"\"\n",
        "# 'COPY&PASTE FILE DIRECTORY HERE'\n",
        "\n",
        "%cd /content/drive/MyDrive/AI/VIP Lab/Homework 1"
      ],
      "execution_count": 3,
      "outputs": [
        {
          "output_type": "stream",
          "name": "stdout",
          "text": [
            "/content/drive/MyDrive/AI/VIP Lab/Homework 1\n"
          ]
        }
      ]
    },
    {
      "cell_type": "markdown",
      "metadata": {
        "id": "rR3VeoqMIFbq"
      },
      "source": [
        "## Import Modules"
      ]
    },
    {
      "cell_type": "code",
      "metadata": {
        "id": "JAC2qQEy7rM8"
      },
      "source": [
        "import numpy as np\n",
        "import matplotlib.pyplot as plt\n",
        "from mnist.data_utils import load_data"
      ],
      "execution_count": 4,
      "outputs": []
    },
    {
      "cell_type": "code",
      "source": [
        "# 데이터셋 로드 테스트\n",
        "X_train, y_train, X_test, y_test = load_data()"
      ],
      "metadata": {
        "colab": {
          "base_uri": "https://localhost:8080/"
        },
        "id": "_mESb-nJa5ma",
        "outputId": "f2cf517d-b060-4a33-d9be-37afbe512d6f"
      },
      "execution_count": 5,
      "outputs": [
        {
          "output_type": "stream",
          "name": "stdout",
          "text": [
            "MNIST data loaded:\n",
            "Training data shape: (60000, 784)\n",
            "Training labels shape: (60000, 10)\n",
            "Test data shape: (10000, 784)\n",
            "Test labels shape: (10000, 10)\n"
          ]
        }
      ]
    },
    {
      "cell_type": "markdown",
      "metadata": {
        "id": "jMw488CqIOhm"
      },
      "source": [
        "## K-Nearest Neighbor Implementation"
      ]
    },
    {
      "cell_type": "code",
      "metadata": {
        "id": "zpsV2Bb3r3s4"
      },
      "source": [
        "class KNN:\n",
        "    \"\"\" k-nearest neighbor classifier class \"\"\"\n",
        "\n",
        "    # 문제 (a)\n",
        "    def train(self, X, y):\n",
        "        \"\"\"\n",
        "        Trains the classifier using the given training data (X, y).\n",
        "\n",
        "        Question (a)\n",
        "        - Recall that for k-nearest neighbors this is just memorizing the training data.\n",
        "\n",
        "        Inputs\n",
        "        - X: A numpy array of shape (N, D), where N is the number of data points,\n",
        "            D is the dimensionality of each data point.\n",
        "        - y: A numpy array of shape (N,) containing the training labels, where\n",
        "            y[i] is the label for X[i]. With C classes, each y[i] is an integer\n",
        "            from 0 to C-1.\n",
        "        \"\"\"\n",
        "        self.X = X\n",
        "        self.y = y\n",
        "\n",
        "\n",
        "    def inference(self, X_test, k=1, dist_metric='l2'):\n",
        "        \"\"\"\n",
        "        For each test example in X, this method predicts its label by majority vote\n",
        "        from the k nearest training samples. It returns the predicted labels.\n",
        "\n",
        "        Do NOT Modify this method.\n",
        "\n",
        "        Inputs\n",
        "        - X_test: A numpy array of shape (N, D), where N is the number of test data points,\n",
        "            D is the dimensionality of each data point.\n",
        "        - X_train: A numpy array of shape (M, D), where M is the number of training data points,\n",
        "            D is the dimensionality of each data point.\n",
        "        - k: The number of neighbors to participate in voting.\n",
        "            dist_metric: Determines the distance metric to use.\n",
        "        Returns\n",
        "        - y_pred: A numpy array of shape (N,) containing predicted labels for the test data X,\n",
        "            where y_pred[i] is the predicted label for the test point X[i].\n",
        "        \"\"\"\n",
        "        dists = self.compute_distance(X_test, dist_metric)\n",
        "        y_pred = self.predict_labels(X_test, dists, k)\n",
        "        return y_pred\n",
        "\n",
        "\n",
        "    # 문제 (b)\n",
        "    def compute_distance(self, X_test, dist_metric):\n",
        "        \"\"\"\n",
        "        Computes the distance between the training data and test data using the given dist_metric.\n",
        "\n",
        "        Question (b)\n",
        "        - comlete the if and elif statements.\n",
        "        - hint: you can use np.linalg.norm to normalize data for cosine similarity.\n",
        "        - hint: you can use np.repeat and np.tile to vectorize L2 distance computation.\n",
        "\n",
        "        Inputs\n",
        "        - X_test: A numpy array of shape (N, D), where N is the number of test data points,\n",
        "            D is the dimensionality of each data point.\n",
        "        - X_train: A numpy array of shape (M, D), where M is the number of training data points,\n",
        "            D is the dimensionality of each data point.\n",
        "        - dist_metric: Determines the distance metric to use.\n",
        "        Returns\n",
        "        - dists: A numpy array of shape (N, M) where N is the number of test data points,\n",
        "            and M is the number of traininig data points, containing distances between\n",
        "            each pair of test and train data points based on the given distance metric.\n",
        "        \"\"\"\n",
        "        if dist_metric=='dot':\n",
        "            # your code here\n",
        "            dists = np.dot(self.X, X_test.T)\n",
        "\n",
        "        elif dist_metric=='cos':\n",
        "            # your code here\n",
        "            norms_X = np.linalg.norm(self.X, axis = 1, keepdims=True)\n",
        "            norms_X_test = np.linalg.norm(X_test, axis = 1, keepdims=True)\n",
        "            X_normalized = self.X / norms_X\n",
        "            X_test_normalized = X_test / norms_X_test\n",
        "\n",
        "            # element-wise normalizaton 이 필요하다.\n",
        "            dists = np.dot(X_normalized, X_test_normalized.T)\n",
        "            # 시행착오\n",
        "            # dists = np.dot(self.X, X_test.T) / (np.linalg.norm(X_test.T) * (np.linalg.norm(self.X)))\n",
        "\n",
        "\n",
        "        elif dist_metric=='l2':\n",
        "            # your code here\n",
        "            N = len(X_test)\n",
        "            M = len(self.X)\n",
        "            X_train_t = np.tile(self.X, (N, 1))              # np.tile 은 axis = 0 (row 방향) 기준으로 N 번, axis = 1 (column 방향) 기준으로 1 번 반복\n",
        "            X_test_t = np.repeat(X_test, M, axis=0)          # np.repeat 는 axis 방향 (현재는 row) 에 따라 원소 복사, X_test 를 세로 방향으로 M 번 복사\n",
        "            dists = np.sqrt(np.sum((X_train_t - X_test_t)**2, axis=1)).reshape(N, M)\n",
        "\n",
        "        return dists\n",
        "\n",
        "    # 문제 (c)\n",
        "    def predict_labels(self, X_test, dists, k):\n",
        "        \"\"\"\n",
        "        For the given test image, this method takes a majority vote from k closest points\n",
        "        to predict the class of the test image.\n",
        "\n",
        "        Question (c)\n",
        "\n",
        "        Inputs\n",
        "        - X_test: A numpy array of shape (N, D), where N is the number of test data points,\n",
        "            D is the dimensionality of each data point.\n",
        "        - dists: A numpy array of shape (N, M) where N is the number of test data points,\n",
        "            and M is the number of traininig data points, containing distances between\n",
        "            each pair of test and train data points based on the given distance metric.\n",
        "        - k: The number of neighbors to participate in voting.\n",
        "        Returns\n",
        "        - y_pred: A numpy array of shape (N,) containing predicted labels for the test data X,\n",
        "            where y_pred[i] is the predicted label for the test point X[i].\n",
        "        \"\"\"\n",
        "        N = len(X_test)\n",
        "        y_pred = np.zeros(N) # 초기화\n",
        "        arg_dist = dists.argsort() # 정렬하는 인덱스의 배열 반환\n",
        "\n",
        "        for i in range(N):\n",
        "          row = arg_dist[i]\n",
        "          k_neighbor = self.y[row[:k]] # 주변에서 가까운 k 개의 라벨\n",
        "          target, cnt = np.unique(k_neighbor, return_counts=True) # 고유값들만 모아서 반환\n",
        "          y_pred[i] = target[np.argmax(cnt)]\n",
        "\n",
        "        return y_pred\n",
        "\n",
        "\n",
        "    def evaluate(self, y, y_hat):\n",
        "        \"\"\"\n",
        "        Compares the predicted labels to the ground truth y, and prints the\n",
        "        classification accuracy.\n",
        "\n",
        "        Do NOT Modify this method.\n",
        "\n",
        "        Inputs\n",
        "        - y: A numpy array of shape (N,) containing the ground truth labels, where\n",
        "            N is the number of test examples. With C classes, each y[i] is an integer\n",
        "            from 0 to C-1.\n",
        "        - y_hat: A numpy array of shape (N,) containing the predicted labels, where\n",
        "            N is the number of test examples. With C classes, each y_pred[i] is\n",
        "            an integer from 0 to C-1.\n",
        "        Returns:\n",
        "        - accuracy\n",
        "        \"\"\"\n",
        "        y_hat = np.expand_dims(y_hat, axis=1)\n",
        "        num_correct = np.sum(y_hat == y)\n",
        "        accuracy = float(num_correct) / y.shape[0]\n",
        "        return accuracy"
      ],
      "execution_count": 52,
      "outputs": []
    },
    {
      "cell_type": "markdown",
      "metadata": {
        "id": "yvwolO5qHzXl"
      },
      "source": [
        "## Data Loading"
      ]
    },
    {
      "cell_type": "code",
      "metadata": {
        "id": "zR9dOpGX_0iz"
      },
      "source": [
        "def sample_data(X, y, count):\n",
        "    mask = np.random.choice(X.shape[0], count, replace=False)\n",
        "    X_sampled = X[mask]\n",
        "    y_sampled = y[mask]\n",
        "    return X_sampled, y_sampled"
      ],
      "execution_count": 44,
      "outputs": []
    },
    {
      "cell_type": "code",
      "metadata": {
        "colab": {
          "base_uri": "https://localhost:8080/"
        },
        "id": "UOzrdgGSHVXF",
        "outputId": "d128f369-0968-4b88-9341-486096e02243"
      },
      "source": [
        "num_train_data = 1000\n",
        "num_test_data = 200\n",
        "\n",
        "X_train_src, y_train_src, X_test_src, y_test_src = load_data(one_hot_encoding=False) # Training data is flattened when it is loaded\n",
        "X_train, y_train = sample_data(X_train_src, y_train_src, num_train_data)\n",
        "X_test, y_test = sample_data(X_test_src, y_test_src, num_test_data)"
      ],
      "execution_count": 8,
      "outputs": [
        {
          "output_type": "stream",
          "name": "stdout",
          "text": [
            "MNIST data loaded:\n",
            "Training data shape: (60000, 784)\n",
            "Training labels shape: (60000, 1)\n",
            "Test data shape: (10000, 784)\n",
            "Test labels shape: (10000, 1)\n"
          ]
        }
      ]
    },
    {
      "cell_type": "markdown",
      "metadata": {
        "id": "lZDHMwziIpja"
      },
      "source": [
        "## Model Training & Evaluation"
      ]
    },
    {
      "cell_type": "code",
      "metadata": {
        "id": "nfq-3_r4IsHB"
      },
      "source": [
        "model = KNN()\n",
        "model.train(X_train, y_train)"
      ],
      "execution_count": 53,
      "outputs": []
    },
    {
      "cell_type": "code",
      "metadata": {
        "colab": {
          "base_uri": "https://localhost:8080/"
        },
        "id": "fPmKakDuuc8b",
        "outputId": "c725f7b4-5b39-4744-ec1e-3861228fb9f0"
      },
      "source": [
        "\"\"\"\n",
        "Model usage for test.\n",
        "\"\"\"\n",
        "K = 15\n",
        "y_pred = model.inference(X_test, k=K, dist_metric='l2')\n",
        "acc = model.evaluate(y_test, y_pred)\n",
        "print(\"Accuarcy:\", acc)"
      ],
      "execution_count": 54,
      "outputs": [
        {
          "output_type": "stream",
          "name": "stdout",
          "text": [
            "Accuarcy: 0.825\n"
          ]
        }
      ]
    },
    {
      "cell_type": "markdown",
      "metadata": {
        "id": "_-IRMbqqRtmh"
      },
      "source": [
        "## Experiments"
      ]
    },
    {
      "cell_type": "code",
      "metadata": {
        "id": "r0IsD2pwgFxM"
      },
      "source": [
        "# Modify the number of k's and metrics to try as you want\n",
        "num_ks = 50\n",
        "metrics = ['dot', 'cos', 'l2']"
      ],
      "execution_count": 55,
      "outputs": []
    },
    {
      "cell_type": "code",
      "metadata": {
        "id": "68AnUY2wSkMX",
        "colab": {
          "base_uri": "https://localhost:8080/"
        },
        "outputId": "14080ddf-47c1-4dfb-e8f7-da3f8f42f15d"
      },
      "source": [
        "# Run experiments\n",
        "print_k_interval = 5\n",
        "result = dict(zip(metrics, [[] for _ in range(len(metrics))]))\n",
        "print(result) # 확인 목적"
      ],
      "execution_count": 56,
      "outputs": [
        {
          "output_type": "stream",
          "name": "stdout",
          "text": [
            "{'dot': [], 'cos': [], 'l2': []}\n"
          ]
        }
      ]
    },
    {
      "cell_type": "code",
      "source": [
        "for metric in metrics:\n",
        "    print(\"running KNN with {} distance metric\".format(metric))\n",
        "    for k in range(1, num_ks+1):\n",
        "        if k % print_k_interval==0:\n",
        "            print(\"    processing... k={:3d}\".format(k))\n",
        "        y_pred = model.inference(X_test, k=k, dist_metric=metric)\n",
        "        acc = model.evaluate(y_test, y_pred)\n",
        "        result[metric].append(acc)\n",
        "    print()"
      ],
      "metadata": {
        "colab": {
          "base_uri": "https://localhost:8080/"
        },
        "id": "pRTKVnAwqCOc",
        "outputId": "25d470a7-9677-4cd4-8783-e7bd2e02b527"
      },
      "execution_count": 57,
      "outputs": [
        {
          "output_type": "stream",
          "name": "stdout",
          "text": [
            "running KNN with dot distance metric\n",
            "    processing... k=  5\n",
            "    processing... k= 10\n",
            "    processing... k= 15\n",
            "    processing... k= 20\n",
            "    processing... k= 25\n",
            "    processing... k= 30\n",
            "    processing... k= 35\n",
            "    processing... k= 40\n",
            "    processing... k= 45\n",
            "    processing... k= 50\n",
            "\n",
            "running KNN with cos distance metric\n",
            "    processing... k=  5\n",
            "    processing... k= 10\n",
            "    processing... k= 15\n",
            "    processing... k= 20\n",
            "    processing... k= 25\n",
            "    processing... k= 30\n",
            "    processing... k= 35\n",
            "    processing... k= 40\n",
            "    processing... k= 45\n",
            "    processing... k= 50\n",
            "\n",
            "running KNN with l2 distance metric\n",
            "    processing... k=  5\n",
            "    processing... k= 10\n",
            "    processing... k= 15\n",
            "    processing... k= 20\n",
            "    processing... k= 25\n",
            "    processing... k= 30\n",
            "    processing... k= 35\n",
            "    processing... k= 40\n",
            "    processing... k= 45\n",
            "    processing... k= 50\n",
            "\n"
          ]
        }
      ]
    },
    {
      "cell_type": "code",
      "source": [
        "print(result['dot'])\n",
        "print(result['cos'])\n",
        "print(result['l2'])"
      ],
      "metadata": {
        "colab": {
          "base_uri": "https://localhost:8080/"
        },
        "id": "8FTjOotzv2k0",
        "outputId": "3045ac8b-e674-4da9-a3cd-d51cb9af5b37"
      },
      "execution_count": 58,
      "outputs": [
        {
          "output_type": "stream",
          "name": "stdout",
          "text": [
            "[0.105, 0.065, 0.065, 0.1, 0.115, 0.11, 0.11, 0.115, 0.11, 0.115, 0.11, 0.105, 0.115, 0.12, 0.11, 0.12, 0.12, 0.11, 0.105, 0.115, 0.11, 0.105, 0.09, 0.125, 0.13, 0.14, 0.13, 0.125, 0.12, 0.125, 0.125, 0.115, 0.115, 0.105, 0.11, 0.1, 0.105, 0.095, 0.105, 0.1, 0.1, 0.095, 0.1, 0.1, 0.105, 0.115, 0.105, 0.125, 0.13, 0.13]\n",
            "[0.115, 0.1, 0.115, 0.08, 0.085, 0.105, 0.085, 0.09, 0.1, 0.09, 0.09, 0.085, 0.08, 0.085, 0.075, 0.09, 0.095, 0.09, 0.1, 0.11, 0.115, 0.115, 0.11, 0.115, 0.115, 0.105, 0.095, 0.1, 0.1, 0.1, 0.1, 0.125, 0.12, 0.095, 0.11, 0.105, 0.1, 0.1, 0.105, 0.11, 0.1, 0.105, 0.11, 0.105, 0.115, 0.105, 0.105, 0.115, 0.105, 0.1]\n",
            "[0.885, 0.855, 0.88, 0.87, 0.87, 0.87, 0.875, 0.865, 0.87, 0.86, 0.85, 0.855, 0.835, 0.835, 0.825, 0.83, 0.82, 0.825, 0.84, 0.825, 0.815, 0.82, 0.82, 0.82, 0.815, 0.8, 0.785, 0.8, 0.8, 0.795, 0.795, 0.795, 0.79, 0.785, 0.79, 0.78, 0.79, 0.785, 0.785, 0.775, 0.77, 0.77, 0.77, 0.77, 0.765, 0.77, 0.765, 0.76, 0.765, 0.76]\n"
          ]
        }
      ]
    },
    {
      "cell_type": "code",
      "metadata": {
        "id": "Q47KrG6ch6MH",
        "colab": {
          "base_uri": "https://localhost:8080/",
          "height": 418
        },
        "outputId": "2c8f4058-27cd-4bae-c613-b819b9ebe864"
      },
      "source": [
        "# Visualize the result\n",
        "fig = plt.figure(figsize=(10,5))\n",
        "ax = fig.add_subplot(1,1,1)\n",
        "\n",
        "x_axis = np.arange(1, num_ks+1, 1)\n",
        "for i, metric in enumerate(metrics):\n",
        "    ax.scatter(x_axis, result[metric], label = metric)\n",
        "\n",
        "ax.set(title=\"K-Nearest Neighbor Accuracies on different Ks\")\n",
        "ax.set(xlabel='K', ylabel='Accuracy')\n",
        "ax.set(xticks=np.arange(0, num_ks+1,5), yticks=np.arange(0.5,1.0,0.05))\n",
        "ax.legend()\n",
        "plt.show()"
      ],
      "execution_count": 59,
      "outputs": [
        {
          "output_type": "display_data",
          "data": {
            "text/plain": [
              "<Figure size 1000x500 with 1 Axes>"
            ],
            "image/png": "[encoded data removed]"
          },
          "metadata": {}
        }
      ]
    },
    {
      "cell_type": "code",
      "metadata": {
        "id": "6dbMIK5-WP3b"
      },
      "source": [
        "###\n",
        "# Question (d)\n",
        "# Briefly report what you observe in the plot above.\n",
        "###"
      ],
      "execution_count": null,
      "outputs": []
    },
    {
      "cell_type": "markdown",
      "metadata": {
        "id": "QgIN5NRpF5OF"
      },
      "source": [
        "  L2 Distance 메트릭을 사용하였을 때, (타 메트릭 대비) 훨씬 높은 정확도를 보인다."
      ]
    },
    {
      "cell_type": "code",
      "metadata": {
        "id": "mjgeVV7ydJ5K"
      },
      "source": [
        "###\n",
        "# Question (e)\n",
        "# In what kind of dataset dot product(not cosine similarity) will serve as a good metric?\n",
        "###"
      ],
      "execution_count": null,
      "outputs": []
    },
    {
      "cell_type": "markdown",
      "metadata": {
        "id": "eCkBY-yHF_-U"
      },
      "source": [
        "고차원의 데이터에서는 오히려 dot product 가 더 좋은 메트릭이 될 수 있다. (Curse of Dimensionality 문제) 또한, dataset 의 magnitude 정보 자체가 유의미할 경우에도 dot product 메트릭을 사용하는 것이 적절하다."
      ]
    }
  ]
}